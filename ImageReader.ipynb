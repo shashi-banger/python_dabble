{
 "cells": [
  {
   "cell_type": "code",
   "execution_count": null,
   "metadata": {},
   "outputs": [],
   "source": [
    "inp_tga = '/home2/sb_media/MI_data/graphics_detect/example_graphics/HD/cadburycelebration/img_00020.tga'\n",
    "\n",
    "img_bytes = open(inp_tga).read(32)[8:18]\n",
    "\n",
    "x_o = (ord(img_bytes[1]) << 8) | ord(img_bytes[0])\n",
    "y_o = (ord(img_bytes[3]) << 8) | ord(img_bytes[2])\n",
    "w = (ord(img_bytes[5]) << 8) | ord(img_bytes[4])\n",
    "h = (ord(img_bytes[7]) << 8) | ord(img_bytes[6])\n",
    "\n",
    "print x_o, y_o,w, h\n",
    "\n"
   ]
  },
  {
   "cell_type": "code",
   "execution_count": null,
   "metadata": {},
   "outputs": [],
   "source": [
    "from PIL import Image\n",
    "import numpy as np\n",
    "\n",
    "im = Image.open(inp_tga)\n",
    "\n",
    "print im.size, im.mode\n",
    "print type(im)\n",
    "\n",
    "#im.show()\n",
    "\n",
    "pixel_dat = np.array(im)\n",
    "print type(pixel_dat)\n",
    "print pixel_dat.shape\n",
    "\n",
    "r,g,b,a = im.split()\n",
    "a.show()"
   ]
  },
  {
   "cell_type": "code",
   "execution_count": null,
   "metadata": {},
   "outputs": [],
   "source": [
    "import matplotlib.pyplot as plt\n",
    "\n",
    "plt.imshow(pixel_dat)\n",
    "plt.show()"
   ]
  }
 ],
 "metadata": {
  "kernelspec": {
   "display_name": "Python 2",
   "language": "python",
   "name": "python2"
  },
  "language_info": {
   "codemirror_mode": {
    "name": "ipython",
    "version": 2
   },
   "file_extension": ".py",
   "mimetype": "text/x-python",
   "name": "python",
   "nbconvert_exporter": "python",
   "pygments_lexer": "ipython2",
   "version": "2.7.13"
  }
 },
 "nbformat": 4,
 "nbformat_minor": 2
}
