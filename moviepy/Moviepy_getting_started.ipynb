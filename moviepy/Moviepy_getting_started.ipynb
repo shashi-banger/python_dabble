{
 "cells": [
  {
   "cell_type": "code",
   "execution_count": 11,
   "metadata": {},
   "outputs": [
    {
     "name": "stdout",
     "output_type": "stream",
     "text": [
      "[MoviePy] >>>> Building video myHolidays_edited.mov\n",
      "[MoviePy] Writing audio in myHolidays_editedTEMP_MPY_wvf_snd.mp4\n"
     ]
    },
    {
     "name": "stderr",
     "output_type": "stream",
     "text": [
      "100%|██████████| 221/221 [00:00<00:00, 504.98it/s]"
     ]
    },
    {
     "name": "stdout",
     "output_type": "stream",
     "text": [
      "[MoviePy] Done.\n",
      "[MoviePy] Writing video myHolidays_edited.mov\n"
     ]
    },
    {
     "name": "stderr",
     "output_type": "stream",
     "text": [
      "\n",
      "100%|█████████▉| 250/251 [00:01<00:00, 169.01it/s]"
     ]
    },
    {
     "name": "stdout",
     "output_type": "stream",
     "text": [
      "[MoviePy] Done.\n",
      "[MoviePy] >>>> Video ready: myHolidays_edited.mov \n",
      "\n"
     ]
    },
    {
     "name": "stderr",
     "output_type": "stream",
     "text": [
      "\n"
     ]
    }
   ],
   "source": [
    "# Import everything needed to edit video clips\n",
    "from moviepy.editor import *\n",
    "\n",
    "# Load myHolidays.mp4 and select the subclip 00:00:50 - 00:00:60\n",
    "clip = VideoFileClip(\"/home2/sb_media/MI_data/test_videos/480x270_bigBuck_bunny.mov\").subclip(50,60)\n",
    "\n",
    "# Reduce the audio volume (volume x 0.8)\n",
    "clip = clip.volumex(0.8)\n",
    "\n",
    "# Generate a text clip. You can customize the font, color, etc.\n",
    "txt_clip = TextClip(\"My Holidays 2013\",fontsize=70,color='white')\n",
    "\n",
    "# Say that you want it to appear 10s at the center of the screen\n",
    "txt_clip = txt_clip.set_pos('center').set_duration(10)\n",
    "\n",
    "# Overlay the text clip on the first video clip\n",
    "video = CompositeVideoClip([clip, txt_clip])\n",
    "\n",
    "# Write the result to a file (many options available !)\n",
    "video.write_videofile(\"myHolidays_edited.mov\", codec='mpeg4', audio_codec='aac')"
   ]
  },
  {
   "cell_type": "markdown",
   "metadata": {},
   "source": [
    "When running above program it gave an error saying convert.im6 was not authorized. Following commands helped fix it\n",
    "\n",
    "identify -list policy\n",
    "sudo vi /etc/ImageMagick/policy.xml\n",
    "\n",
    "Comment out the following line\n",
    "\n",
    "\"<policy domain=\"path\" rights=\"none\" pattern=\"@*\" />\"\n",
    "\n"
   ]
  }
 ],
 "metadata": {
  "kernelspec": {
   "display_name": "Python 2",
   "language": "python",
   "name": "python2"
  },
  "language_info": {
   "codemirror_mode": {
    "name": "ipython",
    "version": 2
   },
   "file_extension": ".py",
   "mimetype": "text/x-python",
   "name": "python",
   "nbconvert_exporter": "python",
   "pygments_lexer": "ipython2",
   "version": "2.7.13"
  }
 },
 "nbformat": 4,
 "nbformat_minor": 2
}
