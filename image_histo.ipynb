{
 "cells": [
  {
   "cell_type": "code",
   "execution_count": 18,
   "metadata": {},
   "outputs": [
    {
     "name": "stdout",
     "output_type": "stream",
     "text": [
      "320.0 240.0\n",
      "np histo =  0.008082\n",
      "cv2 time =  0.001295\n",
      "[  7.62109384e-02   1.09010413e-01   1.27864584e-01   1.26289070e-01\n",
      "   1.23294272e-01   1.17434897e-01   1.05533853e-01   8.68749991e-02\n",
      "   4.91536446e-02   3.80208343e-02   1.93229169e-02   7.99479149e-03\n",
      "   4.12760396e-03   2.70833331e-03   1.52343744e-03   1.18489587e-03\n",
      "   1.09375000e-03   8.20312474e-04   7.42187491e-04   3.38541664e-04\n",
      "   1.69270832e-04   1.69270832e-04   9.11458337e-05   2.60416673e-05]\n",
      "1.0\n",
      "[  7.62109375e-02   1.09010417e-01   1.27864583e-01   1.26289063e-01\n",
      "   1.23294271e-01   1.17434896e-01   1.05533854e-01   8.09895833e-02\n",
      "   5.50390625e-02   3.80208333e-02   1.82161458e-02   9.10156250e-03\n",
      "   4.12760417e-03   2.50000000e-03   1.73177083e-03   1.10677083e-03\n",
      "   1.08072917e-03   9.11458333e-04   6.77083333e-04   3.90625000e-04\n",
      "   1.82291667e-04   1.69270833e-04   7.81250000e-05   3.90625000e-05]\n"
     ]
    },
    {
     "data": {
      "image/png": "[encoded data removed]",
      "text/plain": [
       "<matplotlib.figure.Figure at 0x7f4288893750>"
      ]
     },
     "metadata": {},
     "output_type": "display_data"
    },
    {
     "name": "stdout",
     "output_type": "stream",
     "text": [
      "True\n",
      "<type 'numpy.ndarray'>\n",
      "(240, 320, 3)\n",
      "(240, 320)\n"
     ]
    }
   ],
   "source": [
    "import cv2\n",
    "import matplotlib.pyplot as plt\n",
    "import numpy as np\n",
    "import time\n",
    "\n",
    "cap = cv2.VideoCapture('/home2/sb_media/MI_data/hbo/016459N1_2.mov')\n",
    "\n",
    "w = cap.get(cv2.CAP_PROP_FRAME_WIDTH)\n",
    "h = cap.get(cv2.CAP_PROP_FRAME_HEIGHT)\n",
    "\n",
    "print w,h\n",
    "\n",
    "success, frame = cap.read()\n",
    "frame = cv2.cvtColor(frame, cv2.COLOR_BGR2HSV)\n",
    "\n",
    "#plt.imshow(frame[:,:,2], cmap='gray')\n",
    "#plt.show()\n",
    "\n",
    "s = time.clock()\n",
    "hy = np.histogram(frame[:,:,2],bins=24,range=(0,255), density=True)\n",
    "print \"np histo = \",(time.clock() - s)\n",
    "hy_pmf = hy[0]*255/24\n",
    "\n",
    "\n",
    "s = time.clock()\n",
    "cv2_hy = cv2.calcHist([frame],[2],None,[24],[0,256]).reshape(24)\n",
    "print \"cv2 time = \",(time.clock() - s)\n",
    "\n",
    "print cv2_hy/(w*h)\n",
    "\n",
    "print np.sum(hy_pmf)\n",
    "print hy_pmf\n",
    "\n",
    "x_pos = np.arange(len(hy_pmf))\n",
    "plt.bar(x_pos, hy_pmf, 0.3)\n",
    "plt.xticks(x_pos, x_pos)\n",
    "plt.show()\n",
    "\n",
    "print success\n",
    "print type(frame)\n",
    "print frame.shape\n",
    "print frame[:,:,0].shape\n",
    "\n"
   ]
  }
 ],
 "metadata": {
  "kernelspec": {
   "display_name": "Python 2",
   "language": "python",
   "name": "python2"
  },
  "language_info": {
   "codemirror_mode": {
    "name": "ipython",
    "version": 2
   },
   "file_extension": ".py",
   "mimetype": "text/x-python",
   "name": "python",
   "nbconvert_exporter": "python",
   "pygments_lexer": "ipython2",
   "version": "2.7.13"
  }
 },
 "nbformat": 4,
 "nbformat_minor": 2
}
